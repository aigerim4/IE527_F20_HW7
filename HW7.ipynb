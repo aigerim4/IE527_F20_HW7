{
 "cells": [
  {
   "cell_type": "code",
   "execution_count": 14,
   "metadata": {},
   "outputs": [],
   "source": [
    "import pandas as pd\n",
    "import numpy as np\n",
    "import matplotlib.pyplot as plt\n",
    "from sklearn.impute import KNNImputer\n",
    "from sklearn.pipeline import Pipeline\n",
    "from sklearn.metrics import accuracy_score\n",
    "from sklearn.tree import DecisionTreeClassifier\n",
    "from sklearn.preprocessing import StandardScaler\n",
    "from sklearn.model_selection import GridSearchCV\n",
    "from sklearn.model_selection import cross_val_score\n",
    "from sklearn.ensemble import RandomForestClassifier"
   ]
  },
  {
   "cell_type": "code",
   "execution_count": 15,
   "metadata": {},
   "outputs": [],
   "source": [
    "df=pd.read_csv(\"C:/Users/aiger/Desktop/MSFE/IE517/HW7/ccdefault.csv\")"
   ]
  },
  {
   "cell_type": "code",
   "execution_count": 16,
   "metadata": {},
   "outputs": [],
   "source": [
    "from sklearn.preprocessing import StandardScaler\n",
    "stad=StandardScaler()\n",
    "X= df.iloc[:, 1:24]\n",
    "y=df[['DEFAULT']]"
   ]
  },
  {
   "cell_type": "code",
   "execution_count": 21,
   "metadata": {},
   "outputs": [
    {
     "name": "stdout",
     "output_type": "stream",
     "text": [
      "Accuracy: 0.813000\n",
      "Tuned Model Parameters: {'random_forest__n_estimators': 24}\n"
     ]
    }
   ],
   "source": [
    "steps=[('imputer', KNNImputer(n_neighbors=2, weights='uniform')), ('scaler', StandardScaler()), \n",
    "       ('random_forest', RandomForestClassifier())]\n",
    "pipeline=Pipeline(steps)\n",
    "X, y =df.iloc[:, 1:24], df[['DEFAULT']]\n",
    "X_train, X_test, y_train, y_test=train_test_split(X, y, test_size=0.1, random_state=33)\n",
    "params_rf = {\n",
    "    'random_forest__n_estimators': range(10,25)\n",
    "}\n",
    "\n",
    "grid=GridSearchCV(pipeline, param_grid=params_rf)\n",
    "grid.fit(X_train, np.ravel(y_train))\n",
    "y_pred=grid.predict(X_test)\n",
    "\n",
    "print('Accuracy: %4f' % grid.score(X_test, np.ravel(y_test)))\n",
    "print('Tuned Model Parameters: {}'.format(grid.best_params_))"
   ]
  },
  {
   "cell_type": "code",
   "execution_count": 23,
   "metadata": {},
   "outputs": [
    {
     "name": "stdout",
     "output_type": "stream",
     "text": [
      "[0.8052, 0.8089, 0.817, 0.8085, 0.8122, 0.8019, 0.807, 0.83, 0.8137, 0.8133]\n",
      "Mean In-Sample: 0.8118, std: 0.0074\n"
     ]
    }
   ],
   "source": [
    "rf=RandomForestClassifier(n_estimators=24, random_state=42)\n",
    "cv_score=cross_val_score(rf, X_train, y_train, cv=10, n_jobs=-1)\n",
    "print([float('{:.4f}'.format(i)) for i in cv_score])\n",
    "print('Mean In-Sample: %.4f, std: %.4f' % (np.mean(cv_score), np.std(cv_score)))"
   ]
  },
  {
   "cell_type": "code",
   "execution_count": 25,
   "metadata": {},
   "outputs": [
    {
     "data": {
      "text/plain": [
       "RandomForestClassifier(n_estimators=24, random_state=42)"
      ]
     },
     "execution_count": 25,
     "metadata": {},
     "output_type": "execute_result"
    }
   ],
   "source": [
    "rf.fit(X_train, np.ravel(y_train))"
   ]
  },
  {
   "cell_type": "code",
   "execution_count": 26,
   "metadata": {},
   "outputs": [
    {
     "name": "stdout",
     "output_type": "stream",
     "text": [
      "Accuracy: 0.821000\n"
     ]
    }
   ],
   "source": [
    "print('Accuracy: %4f' % rf.score(X_test, np.ravel(y_test)))"
   ]
  },
  {
   "cell_type": "code",
   "execution_count": 28,
   "metadata": {},
   "outputs": [
    {
     "data": {
      "text/plain": [
       "RandomForestClassifier(n_estimators=24, n_jobs=-1)"
      ]
     },
     "execution_count": 28,
     "metadata": {},
     "output_type": "execute_result"
    }
   ],
   "source": [
    "rf=RandomForestClassifier(n_estimators=24, n_jobs=-1)\n",
    "rf.fit(X_train, np.ravel(y_train))"
   ]
  },
  {
   "cell_type": "code",
   "execution_count": 34,
   "metadata": {},
   "outputs": [
    {
     "data": {
      "image/png": "[encoded data removed]",
      "text/plain": [
       "<Figure size 432x288 with 1 Axes>"
      ]
     },
     "metadata": {
      "needs_background": "light"
     },
     "output_type": "display_data"
    }
   ],
   "source": [
    "importances=rf.feature_importances_\n",
    "indices=np.argsort(importances)[::-1]\n",
    "importances=pd.Series(data=rf.feature_importances_, index=indices)\n",
    "importances_sorted=importances.sort_values(ascending=False)\n",
    "feat_labels=df.columns[1:24]\n",
    "plt.title('Feature importance')\n",
    "plt.bar(range(X_train.shape[1]), importances[indices], align='center')\n",
    "plt.xticks(range(X_train.shape[1]), feat_labels, rotation=90)\n",
    "plt.xlim([-1, X_train.shape[1]])\n",
    "_=plt.show()\n"
   ]
  },
  {
   "cell_type": "code",
   "execution_count": 35,
   "metadata": {},
   "outputs": [
    {
     "name": "stdout",
     "output_type": "stream",
     "text": [
      " 1) PAY_0                          0.098726\n",
      " 2) AGE                            0.067011\n",
      " 3) BILL_AMT1                      0.062948\n",
      " 4) LIMIT_BAL                      0.058607\n",
      " 5) BILL_AMT2                      0.056050\n",
      " 6) BILL_AMT3                      0.051277\n",
      " 7) PAY_AMT1                       0.049974\n",
      " 8) BILL_AMT6                      0.049845\n",
      " 9) BILL_AMT5                      0.049668\n",
      "10) BILL_AMT4                      0.049590\n",
      "11) PAY_AMT2                       0.048058\n",
      "12) PAY_2                          0.046273\n",
      "13) PAY_AMT3                       0.045887\n",
      "14) PAY_AMT6                       0.045086\n",
      "15) PAY_AMT4                       0.043306\n",
      "16) PAY_AMT5                       0.043068\n",
      "17) PAY_4                          0.029027\n",
      "18) PAY_3                          0.022545\n",
      "19) EDUCATION                      0.020682\n",
      "20) PAY_6                          0.020434\n",
      "21) PAY_5                          0.015383\n",
      "22) MARRIAGE                       0.013789\n",
      "23) SEX                            0.012764\n"
     ]
    },
    {
     "data": {
      "image/png": "[encoded data removed]",
      "text/plain": [
       "<Figure size 432x288 with 1 Axes>"
      ]
     },
     "metadata": {
      "needs_background": "light"
     },
     "output_type": "display_data"
    }
   ],
   "source": [
    "importances=rf.feature_importances_\n",
    "indices=np.argsort(importances)[::-1]\n",
    "\n",
    "for f in range(X_train.shape[1]):\n",
    "    print(\"%2d) %-*s %f\" % (f + 1, 30, \n",
    "                            feat_labels[indices[f]], \n",
    "                            importances[indices[f]]))\n",
    "\n",
    "\n",
    "plt.title('Feature Importance')\n",
    "plt.bar(range(X_train.shape[1]), \n",
    "        importances[indices],\n",
    "        align='center')\n",
    "\n",
    "plt.xticks(range(X_train.shape[1]), \n",
    "           feat_labels[indices], rotation=90)\n",
    "plt.xlim([-1, X_train.shape[1]])\n",
    "plt.tight_layout()\n",
    "#plt.savefig('images/04_09.png', dpi=300)\n",
    "plt.show()"
   ]
  },
  {
   "cell_type": "code",
   "execution_count": 36,
   "metadata": {},
   "outputs": [
    {
     "name": "stdout",
     "output_type": "stream",
     "text": [
      "My name is Aigerim\n",
      "My NetID is: aigerim4\n",
      "I hereby certify that I have read the University policy on Academic Integrity and that I am not in violation.\n"
     ]
    }
   ],
   "source": [
    "print(\"My name is Aigerim\")\n",
    "print(\"My NetID is: aigerim4\")\n",
    "print(\"I hereby certify that I have read the University policy on Academic Integrity and that I am not in violation.\")"
   ]
  }
 ],
 "metadata": {
  "kernelspec": {
   "display_name": "Python 3",
   "language": "python",
   "name": "python3"
  },
  "language_info": {
   "codemirror_mode": {
    "name": "ipython",
    "version": 3
   },
   "file_extension": ".py",
   "mimetype": "text/x-python",
   "name": "python",
   "nbconvert_exporter": "python",
   "pygments_lexer": "ipython3",
   "version": "3.8.3"
  }
 },
 "nbformat": 4,
 "nbformat_minor": 4
}
